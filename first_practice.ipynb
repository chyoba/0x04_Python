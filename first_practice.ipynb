{
 "cells": [
  {
   "cell_type": "code",
   "execution_count": 5,
   "id": "bb889075-4d13-48e8-8e02-ea17f6388f08",
   "metadata": {},
   "outputs": [
    {
     "name": "stdout",
     "output_type": "stream",
     "text": [
      "Carrot Per Rabbit = 3.0\n"
     ]
    }
   ],
   "source": [
    "# My jupyter paractice\n",
    "carrot = 24\n",
    "rabbit = 8\n",
    "carrots_per_rabbit = (carrot / rabbit)\n",
    "print(\"Carrot Per Rabbit =\", carrots_per_rabbit)"
   ]
  },
  {
   "cell_type": "code",
   "execution_count": null,
   "id": "d23761d9-d291-4660-bf10-0c497dbb1b48",
   "metadata": {},
   "outputs": [],
   "source": []
  }
 ],
 "metadata": {
  "kernelspec": {
   "display_name": "Python 3 (ipykernel)",
   "language": "python",
   "name": "python3"
  },
  "language_info": {
   "codemirror_mode": {
    "name": "ipython",
    "version": 3
   },
   "file_extension": ".py",
   "mimetype": "text/x-python",
   "name": "python",
   "nbconvert_exporter": "python",
   "pygments_lexer": "ipython3",
   "version": "3.13.2"
  }
 },
 "nbformat": 4,
 "nbformat_minor": 5
}
